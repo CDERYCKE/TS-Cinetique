{
 "cells": [
  {
   "cell_type": "markdown",
   "metadata": {},
   "source": [
    "# CH7 - Python et suivi cinétique d'une réaction chimique"
   ]
  },
  {
   "cell_type": "markdown",
   "metadata": {},
   "source": [
    "**Programme officiel :  \n",
    "Capacité numérique :**  \n",
    "À l’aide d’un langage de programmation et à partir de données expérimentales, tracer l’évolution temporelle d’une concentration, d’une vitesse volumique d’apparition ou de disparition "
   ]
  },
  {
   "cell_type": "markdown",
   "metadata": {},
   "source": [
    "<div class=\"alert alert-info\" role=\"alert\">\n",
    "  <strong>Travail à faire sur le notebook : </strong> <br>\n",
    "    Pour les cellules suivantes, appuyez sur <strong>shift entrée</strong> pour lancer le code Python contenu chaque cellule\n",
    "</div>"
   ]
  },
  {
   "cell_type": "markdown",
   "metadata": {},
   "source": [
    "## 1 - Récupération des données"
   ]
  },
  {
   "cell_type": "code",
   "execution_count": null,
   "metadata": {},
   "outputs": [],
   "source": [
    "k = 1700 # constante de la loi de Beer-Lambert à 420 nm mesurée expérimentalement"
   ]
  },
  {
   "cell_type": "code",
   "execution_count": null,
   "metadata": {},
   "outputs": [],
   "source": [
    "# on crée 3 listes vides\n",
    "temps=[]\n",
    "absorbance=[]\n",
    "concentration=[]\n",
    "\n",
    "with open('data/absorbance.txt') as file:\n",
    "    lines = file.readlines() # attention readlines ! pour lire toutes les lignes\n",
    "    for line in lines:\n",
    "        t, A = line.split(\";\")\n",
    "        temps.append(float(t)) # ajoute le temps dans la liste des temps\n",
    "        absorbance.append(float(A))\n",
    "        line = file.readline()"
   ]
  },
  {
   "cell_type": "code",
   "execution_count": null,
   "metadata": {},
   "outputs": [],
   "source": [
    "absorbance #permet de voir le contenu de la liste"
   ]
  },
  {
   "cell_type": "markdown",
   "metadata": {},
   "source": [
    "On calcule alors la liste des concentrations grâce à la relation de Beer Lambert : $ A = k * C $ donc $ C = \\frac{A}{k} $"
   ]
  },
  {
   "cell_type": "code",
   "execution_count": null,
   "metadata": {},
   "outputs": [],
   "source": [
    "concentration = [absorbance[i]/k for i in range(len(absorbance))] #permet de calculer rapidement les concentrations"
   ]
  },
  {
   "cell_type": "code",
   "execution_count": null,
   "metadata": {},
   "outputs": [],
   "source": [
    "concentration #permet de voir le contenu de la liste"
   ]
  },
  {
   "cell_type": "markdown",
   "metadata": {},
   "source": [
    "## 2 - Tracé de l'évolution de la concentration en fonction du temps"
   ]
  },
  {
   "cell_type": "markdown",
   "metadata": {},
   "source": [
    "<div class=\"alert alert-info\" role=\"alert\">\n",
    "  <strong>Travail à faire sur le notebook : </strong> <br>\n",
    "    Pour les cellules suivantes, appuyez sur <strong>shift entrée</strong> pour lancer le code Python contenu chaque cellule\n",
    "</div>"
   ]
  },
  {
   "cell_type": "code",
   "execution_count": null,
   "metadata": {},
   "outputs": [],
   "source": [
    "# on importe les bibliothèques nécessaires\n",
    "from matplotlib import pyplot as plt\n",
    "%matplotlib inline"
   ]
  },
  {
   "cell_type": "code",
   "execution_count": null,
   "metadata": {},
   "outputs": [],
   "source": [
    "plt.grid()\n",
    "plt.title(\"Evolution de l'absorbance en fonction du temps\", fontweight = 'bold')\n",
    "plt.xlabel(\"temps (s)\")\n",
    "plt.ylabel(\"Absorbance\")\n",
    "plt.plot(temps,absorbance, \"b+\")\n",
    "plt.show()"
   ]
  },
  {
   "cell_type": "markdown",
   "metadata": {},
   "source": [
    "<div class=\"alert alert-warning\" role=\"alert\">\n",
    "    <strong> Travail à faire : </strong> <br>\n",
    "    --> Modifier le code précédent pour obtenir l'évolution de la concentration en fonction du temps.<br>\n",
    "    --> Modifier également le titre et les noms des axes\n",
    "</div>"
   ]
  },
  {
   "cell_type": "markdown",
   "metadata": {},
   "source": [
    "## 3 - Calcul et tracé de l'évolution de la vitesse d'apparition du diiode"
   ]
  },
  {
   "cell_type": "code",
   "execution_count": null,
   "metadata": {},
   "outputs": [],
   "source": [
    "N = len(temps) # création d'une variable N pour le nombre d'éléments de la liste"
   ]
  },
  {
   "cell_type": "markdown",
   "metadata": {},
   "source": [
    "<div class=\"alert alert-warning\" role=\"alert\">\n",
    "    <strong> Travail à faire : </strong> <br>\n",
    "    --> Modifier le code suivant pour obtenir les valeurs des vitesses (on calcule une dérivée).<br>\n",
    "</div>"
   ]
  },
  {
   "cell_type": "code",
   "execution_count": null,
   "metadata": {},
   "outputs": [],
   "source": [
    "vitesse=[] # création d'une liste vide pour stocker les vitesses\n",
    "\n",
    "for i in range(N-1):\n",
    "    v=(concentration[????]-concentration[????])/(temps[????]-temps[????]) # calcul de la vitesse entre i et i+1\n",
    "    vitesse.append(v)"
   ]
  },
  {
   "cell_type": "markdown",
   "metadata": {},
   "source": [
    "<div class=\"alert alert-warning\" role=\"alert\">\n",
    "    <strong> Travail à faire : </strong> <br>\n",
    "    --> Modifier le code suivant pour obtenir le tracé de la vitesse d'apparition du diiode.<br>\n",
    "    --> Répondre aux questions de la fiche.\n",
    "</div>"
   ]
  },
  {
   "cell_type": "code",
   "execution_count": null,
   "metadata": {},
   "outputs": [],
   "source": [
    "plt.grid()\n",
    "plt.title(\"Evolution de ????????????????\", fontweight = 'bold')\n",
    "plt.xlabel(\"?????????\")\n",
    "plt.ylabel(\"????????????\")\n",
    "plt.plot(temps[:-1],?????????, \"b+\") # temps[:-1] pour garder toutes les dates t sauf la dernière car on ne connait pas la vitesse\n",
    "plt.show()"
   ]
  },
  {
   "cell_type": "markdown",
   "metadata": {},
   "source": [
    "<div class=\"alert alert-success\" role=\"alert\">\n",
    " <strong> Le travail est terminé !</strong> <br>\n",
    "</div>"
   ]
  },
  {
   "cell_type": "markdown",
   "metadata": {},
   "source": [
    "## Compléments :\n",
    "On peut retrouver la loi de Beer-Lambert :\n"
   ]
  },
  {
   "cell_type": "code",
   "execution_count": null,
   "metadata": {},
   "outputs": [],
   "source": [
    "plt.grid()\n",
    "plt.title(\"absorbance en fonction de la concentration\", fontweight = 'bold')\n",
    "plt.xlabel(\"concentration (mol/L)\")\n",
    "plt.ylabel(\"Absorbance\")\n",
    "plt.plot(concentration,absorbance, \"b+\")\n",
    "plt.show()"
   ]
  }
 ],
 "metadata": {
  "kernelspec": {
   "display_name": "Python 3",
   "language": "python",
   "name": "python3"
  },
  "language_info": {
   "codemirror_mode": {
    "name": "ipython",
    "version": 3
   },
   "file_extension": ".py",
   "mimetype": "text/x-python",
   "name": "python",
   "nbconvert_exporter": "python",
   "pygments_lexer": "ipython3",
   "version": "3.7.9"
  }
 },
 "nbformat": 4,
 "nbformat_minor": 4
}
