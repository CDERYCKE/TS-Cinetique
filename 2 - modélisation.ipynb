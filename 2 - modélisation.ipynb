{
 "cells": [
  {
   "cell_type": "markdown",
   "metadata": {},
   "source": [
    "# CH7 - Python et suivi cinétique d'une réaction chimique"
   ]
  },
  {
   "cell_type": "markdown",
   "metadata": {},
   "source": [
    "**Programme officiel :  \n",
    "Capacité numérique :**  \n",
    "À l’aide d’un langage de programmation et à partir de données expérimentales, tester une relation donnée entre la vitesse volumique de disparition et la concentration d’un réactif."
   ]
  },
  {
   "cell_type": "markdown",
   "metadata": {},
   "source": [
    "## 1 - Récupération des données"
   ]
  },
  {
   "cell_type": "markdown",
   "metadata": {},
   "source": [
    "<div class=\"alert alert-info\" role=\"alert\">\n",
    "  <strong>Travail à faire sur le notebook : </strong> <br>\n",
    "    Pour les cellules suivantes, appuyez sur<strong> shift entrée</strong> pour lancer le code Python contenu chaque cellule\n",
    "</div>"
   ]
  },
  {
   "cell_type": "code",
   "execution_count": null,
   "metadata": {},
   "outputs": [],
   "source": [
    "temps=[]\n",
    "absorbance=[]\n",
    "k = 1700 # constante de la loi de Beer-Lambert à 420 nm\n",
    "with open('data/absorbance.txt') as file:\n",
    "    lines = file.readlines() # attention readlines ! pour lire toutes les lignes\n",
    "    for line in lines:\n",
    "        t, A= line.split(\";\")\n",
    "        temps.append(float(t)) # ajoute le temps dans la liste des temps\n",
    "        absorbance.append(float(A))\n",
    "        line = file.readline()"
   ]
  },
  {
   "cell_type": "markdown",
   "metadata": {},
   "source": [
    "Il faut alors calculer la concentration du réactif car on dispose ici de la concentration du produit diiode formé lors de la réaction.  \n",
    "$$ 2 I^{-} + H_2O_2 + 2 H^{+} -> I_2 + 2 H_2O $$  \n",
    "sachant que :\n",
    "à t=0 : 10 mL à 0.01 mol/L soit 1.0E-4 mol d'ions iodure\n",
    "\n",
    "le volume total de solution vaut : 28 mL\n",
    "donc on peut calculer la concentration initiale en iodure\n",
    "\n",
    "puis "
   ]
  },
  {
   "cell_type": "code",
   "execution_count": null,
   "metadata": {},
   "outputs": [],
   "source": [
    "n_0=10E-3*0.010\n",
    "concentration = [n_0/28E-3 - 2*absorbance[i]/k for i in range(len(absorbance))]"
   ]
  },
  {
   "cell_type": "markdown",
   "metadata": {},
   "source": [
    "## 2 - Tracé de l'évolution de la concentration en fonction du temps"
   ]
  },
  {
   "cell_type": "markdown",
   "metadata": {},
   "source": [
    "<div class=\"alert alert-info\" role=\"alert\">\n",
    "  <strong>Travail à faire sur le notebook : </strong> <br>\n",
    "    Pour les cellules suivantes, appuyez sur<strong> shift entrée</strong> pour lancer le code Python contenu chaque cellule\n",
    "</div>"
   ]
  },
  {
   "cell_type": "code",
   "execution_count": null,
   "metadata": {},
   "outputs": [],
   "source": [
    "# on importe les bibliothèques nécessaires\n",
    "from matplotlib import pyplot as plt\n",
    "%matplotlib inline\n",
    "\n",
    "from math import exp # pour utiliser l'exponentielle"
   ]
  },
  {
   "cell_type": "code",
   "execution_count": null,
   "metadata": {},
   "outputs": [],
   "source": [
    "plt.grid()\n",
    "plt.title(\"Evolution de la concentration en fonction du temps\", fontweight = 'bold')\n",
    "plt.xlabel(\"temps (s)\")\n",
    "plt.ylabel(\"Concentration (mol/L)\")\n",
    "plt.plot(temps,concentration, \"b+\")\n",
    "plt.show()"
   ]
  },
  {
   "cell_type": "markdown",
   "metadata": {},
   "source": [
    "## 3 - Modélisation de la courbe "
   ]
  },
  {
   "cell_type": "markdown",
   "metadata": {},
   "source": [
    "<div class=\"alert alert-info\" role=\"alert\">\n",
    "  <strong>Travail à faire sur le notebook : </strong> <br>\n",
    "    Pour les cellules suivantes, appuyez sur<strong> shift entrée</strong> pour lancer le code Python contenu chaque cellule\n",
    "</div>"
   ]
  },
  {
   "cell_type": "markdown",
   "metadata": {},
   "source": [
    "On va essayer de modéliser la courbe avec un ordre de réaction à choisir.  \n",
    "Une vitesse suit une loi d’ordre 1 par rapport à un réactif R si la vitesse de disparition est proportionnelle à la concentration en réactif.  \n",
    "On commence par calculer les vitesses de disparition du diode :"
   ]
  },
  {
   "cell_type": "code",
   "execution_count": null,
   "metadata": {},
   "outputs": [],
   "source": [
    "N = len(temps) # création d'une variable N pour le nombre de points de la liste\n",
    "vitesse=[] # création d'une liste vide pour stocker les vitesses\n",
    "\n",
    "for i in range(N-1):\n",
    "    v=(concentration[i+1]-concentration[i])/(temps[i+1]-temps[i]) # calcul de la vitesse entre i et i+1\n",
    "    vitesse.append(-v) # pour avoir une vitesse positive"
   ]
  },
  {
   "cell_type": "code",
   "execution_count": null,
   "metadata": {},
   "outputs": [],
   "source": [
    "plt.grid()\n",
    "plt.title(\"Evolution de la vitesse de disparition d'un réactif\", fontweight = 'bold')\n",
    "plt.xlabel(\"temps\")\n",
    "plt.ylabel(\"vitesse de disparition des ions iodures (mol/L/s)\")\n",
    "plt.plot(temps[:-1],vitesse, \"b+\") # [:-1] pour enlever le dernier terme de la liste des concentrations\n",
    "plt.show()"
   ]
  },
  {
   "cell_type": "markdown",
   "metadata": {},
   "source": [
    "<div class=\"alert alert-warning\" role=\"alert\">\n",
    "    <strong> Travail à faire : </strong> <br>\n",
    "    --> Que dire de la vitesse de disparition en fonction du temps ? <br>\n",
    "    --> Modifier le code suivant pour obtenir le graphique de l'évolution de la vitesse en fonction de la concentration.<br>\n",
    "</div>"
   ]
  },
  {
   "cell_type": "code",
   "execution_count": null,
   "metadata": {},
   "outputs": [],
   "source": [
    "plt.grid()\n",
    "plt.title(\"Test de proportionnalité\", fontweight = 'bold')\n",
    "plt.xlabel(\"???????????????????????\")\n",
    "plt.ylabel(\"??????????????????????\")\n",
    "plt.plot(??????????[:-1],???????????????, \"b+\") # [:-1] pour enlever le dernier terme de la liste des abcisses\n",
    "plt.show()"
   ]
  },
  {
   "cell_type": "code",
   "execution_count": null,
   "metadata": {},
   "outputs": [],
   "source": [
    "import numpy as np\n",
    "from scipy.stats import linregress\n",
    "\n",
    "c=np.array(concentration[:-1]) # transforme la liste en tableau numpy\n",
    "v=np.array(vitesse) # idem"
   ]
  },
  {
   "cell_type": "code",
   "execution_count": null,
   "metadata": {},
   "outputs": [],
   "source": [
    "(slope,intercept,R_value,_,_)=linregress(c,v) # permet de faire la régression linéaire\n",
    "# retourne le coefficient directeur = slope, l'ordonnée à l'origine = intercept, le coefficient de corrélation R = R_value\n",
    "R_value**2 # pour obtenir le coefficient de détermination"
   ]
  },
  {
   "cell_type": "markdown",
   "metadata": {},
   "source": [
    "On va maintenant tracer les points expérimentaux et la courbe modèle :"
   ]
  },
  {
   "cell_type": "code",
   "execution_count": null,
   "metadata": {},
   "outputs": [],
   "source": [
    "v_modele=[slope*concentration[i]+intercept for i in range(len(concentration))]\n",
    "\n",
    "plt.grid()\n",
    "plt.title(\"Test de proportionnalité\", fontweight = 'bold')\n",
    "plt.xlabel(\"concentration en réactif iodure (mol/l))\")\n",
    "plt.ylabel(\"vitesse de disparition des ions iodures (mol/L/s)\")\n",
    "plt.plot(concentration[:-1],vitesse, \"b+\") # [:-1] pour enlever le dernier terme de la liste des concentrations\n",
    "plt.plot(concentration,v_modele)\n",
    "plt.show()"
   ]
  },
  {
   "cell_type": "markdown",
   "metadata": {},
   "source": [
    "<div class=\"alert alert-success\" role=\"alert\">\n",
    " <strong> Le travail est terminé !</strong> <br>\n",
    "</div>"
   ]
  }
 ],
 "metadata": {
  "kernelspec": {
   "display_name": "Python 3",
   "language": "python",
   "name": "python3"
  },
  "language_info": {
   "codemirror_mode": {
    "name": "ipython",
    "version": 3
   },
   "file_extension": ".py",
   "mimetype": "text/x-python",
   "name": "python",
   "nbconvert_exporter": "python",
   "pygments_lexer": "ipython3",
   "version": "3.7.9"
  }
 },
 "nbformat": 4,
 "nbformat_minor": 4
}
